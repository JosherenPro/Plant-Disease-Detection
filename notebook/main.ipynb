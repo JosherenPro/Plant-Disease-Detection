{
 "cells": [
  {
   "cell_type": "markdown",
   "id": "83a94882-d311-41d1-9f56-a273d99d2011",
   "metadata": {},
   "source": [
    "# Ce projet consiste a detecté les maladies des cultures\n",
    "\n",
    "\n",
    "- on charge une image grâce à un bot sur Telegram\n",
    "- Derrière le bot se trouve notre modèle\n",
    "- Notre modèle doit analyser l'image\n",
    "- Elle doit detecté si c'est une plante sinon une erreur sera envoyé\n",
    "    - Sur l'interface de bot sur Telegram\n",
    "    - Et de reprendre\n",
    "- Si c'est une plante\n",
    "    - si Il y a une maladie il envoie le nom de la maladie et les potentiels solutions\n",
    "    - S'il n'y a pas une message encourangente sera envoyé par le bot\n",
    "- Notre modèle sera hébergé sur Render"
   ]
  },
  {
   "cell_type": "code",
   "execution_count": 1,
   "id": "46326dc1-ee5d-4f77-83e3-e6b9a80aa20c",
   "metadata": {},
   "outputs": [
    {
     "name": "stdout",
     "output_type": "stream",
     "text": [
      "WARNING:tensorflow:From C:\\Users\\EPL\\anaconda3\\Lib\\site-packages\\tf_keras\\src\\losses.py:2976: The name tf.losses.sparse_softmax_cross_entropy is deprecated. Please use tf.compat.v1.losses.sparse_softmax_cross_entropy instead.\n",
      "\n"
     ]
    }
   ],
   "source": [
    "\n",
    "\n",
    "import tensorflow as tf\n",
    "import json\n",
    "from PIL import Image\n",
    "import numpy as np\n",
    "import tensorflow_hub as hub\n"
   ]
  },
  {
   "cell_type": "code",
   "execution_count": 3,
   "id": "8a7d1226-b938-4ca7-9a66-3bce5762f3ea",
   "metadata": {},
   "outputs": [],
   "source": [
    "\n",
    "# Chargement des donnees des maladies\n",
    "with open('../json/disease.json', 'r', encoding='utf-8') as file:\n",
    "    DISEASES = json.load(file)\n",
    "\n"
   ]
  },
  {
   "cell_type": "code",
   "execution_count": 5,
   "id": "9c54f600-04b4-4515-a559-a03249e3ea8d",
   "metadata": {},
   "outputs": [
    {
     "name": "stdout",
     "output_type": "stream",
     "text": [
      "Modèle chargé avec succès\n",
      "<tensorflow.python.saved_model.load.Loader._recreate_base_user_object.<locals>._UserObject object at 0x000002B864408F50>\n"
     ]
    }
   ],
   "source": [
    "\n",
    "\n",
    "# Download and load the latest version of the model\n",
    "\n",
    "model = hub.load(\"https://kaggle.com/models/rishitdagli/plant-disease/frameworks/TensorFlow2/variations/plant-disease/versions/1\")\n",
    "\n",
    "\n",
    "if model:\n",
    "    print(\"Modèle chargé avec succès\")\n",
    "    print(model)\n",
    "else:\n",
    "    print(\"Échec du chargement du modèle\")\n"
   ]
  },
  {
   "cell_type": "code",
   "execution_count": 6,
   "id": "14a98346-e426-401e-a3a7-2de24c34c56d",
   "metadata": {},
   "outputs": [],
   "source": [
    "\n",
    "\n",
    "# Prédire la maladie de la plante\n",
    "def predict_disease(image_path):\n",
    "    try:\n",
    "        # Charger et prétraiter l'image\n",
    "        # Load the image and preprocess it\n",
    "        img = Image.open('./'+image_path)\n",
    "        print(img)\n",
    "        img = img.resize((224, 224))\n",
    "        img = tf.keras.preprocessing.image.img_to_array(img)\n",
    "        img = tf.keras.applications.mobilenet_v2.preprocess_input(img)\n",
    "        img = tf.expand_dims(img, axis=0)\n",
    "\n",
    "        # Make the prediction\n",
    "        prediction = model(img)\n",
    "        predicted_class = tf.argmax(prediction, axis=1)\n",
    "        \n",
    "        print(predicted_class)\n",
    "        return int(predicted_class)\n",
    "\n",
    "    except Exception as e:\n",
    "        print(f\"Erreur lors de la prédiction : {e}\")\n",
    "        return None\n",
    "\n"
   ]
  },
  {
   "cell_type": "code",
   "execution_count": 14,
   "id": "d2987e9b-1c1b-4656-9024-a5f617d81fd9",
   "metadata": {},
   "outputs": [],
   "source": [
    "# Trouver la maladie\n",
    "def find_disease(image_path):\n",
    "    disease_info = {'name': \"Maladie Inconnue\", 'solution': \"Aucune solution\"}\n",
    "    disease_id = predict_disease(image_path)\n",
    "\n",
    "    if disease_id is not None:\n",
    "        disease_info = DISEASES.get(str(disease_id), disease_info)\n",
    "\n",
    "    return disease_info['name'], disease_info['solution']"
   ]
  },
  {
   "cell_type": "code",
   "execution_count": 15,
   "id": "6f62eae6",
   "metadata": {},
   "outputs": [
    {
     "name": "stdout",
     "output_type": "stream",
     "text": [
      "<PIL.JpegImagePlugin.JpegImageFile image mode=RGB size=256x256 at 0x2B84C80EE10>\n",
      "tf.Tensor([36], shape=(1,), dtype=int64)\n"
     ]
    },
    {
     "data": {
      "text/plain": [
       "('Tomate___Virus de la mosaïque de la tomate',\n",
       " 'Supprimer les plants malades et désinfecter les outils.')"
      ]
     },
     "execution_count": 15,
     "metadata": {},
     "output_type": "execute_result"
    }
   ],
   "source": [
    "find_disease('../image/temp_image.jpg')"
   ]
  },
  {
   "cell_type": "code",
   "execution_count": null,
   "id": "1db4daa8",
   "metadata": {},
   "outputs": [],
   "source": []
  },
  {
   "cell_type": "code",
   "execution_count": null,
   "id": "546e75c8",
   "metadata": {},
   "outputs": [],
   "source": []
  }
 ],
 "metadata": {
  "kernelspec": {
   "display_name": "Python 3 (ipykernel)",
   "language": "python",
   "name": "python3"
  },
  "language_info": {
   "codemirror_mode": {
    "name": "ipython",
    "version": 3
   },
   "file_extension": ".py",
   "mimetype": "text/x-python",
   "name": "python",
   "nbconvert_exporter": "python",
   "pygments_lexer": "ipython3",
   "version": "3.11.5"
  }
 },
 "nbformat": 4,
 "nbformat_minor": 5
}
